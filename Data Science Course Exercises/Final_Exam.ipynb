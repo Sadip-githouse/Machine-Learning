{
 "cells": [
  {
   "cell_type": "markdown",
   "id": "acd3aec8",
   "metadata": {},
   "source": [
    "<div class=\"alert alert-success\">\n",
    "     <b>  </b>\n",
    "   \n",
    "## PRACTICAL EXAM 16/01/2025\n",
    "    \n",
    "    \n",
    "**Important Information:**\n",
    "\n",
    "* Upload the jupyter notebook in **Atenea** (**PRACTICAL EXAM UPLOAD** folder).\n",
    "* Upload the Script with all the cells executed.\n",
    "    \n",
    "   \n",
    "    \n",
    "    \n",
    "    \n",
    "* Websites available for consult. Yoy must use these links:\n",
    "    * **Atenea**\n",
    "    * **Scikit learn** (scikit-learn.org)  \n",
    "    * **Python** (docs.python.org)  \n",
    "    * **Pandas** (pandas.pydata.org)  \n",
    "    * **Numpy** (numpy.org)  \n",
    "    * **Google** (google.com) OR (www.google.com)\n",
    "    \n",
    "   \n",
    "    \n",
    "* Duration: 2 hours\n",
    "    \n",
    "</div>\n"
   ]
  },
  {
   "cell_type": "code",
   "execution_count": 15,
   "id": "8348918e",
   "metadata": {},
   "outputs": [
    {
     "data": {
      "text/plain": [
       "4"
      ]
     },
     "execution_count": 15,
     "metadata": {},
     "output_type": "execute_result"
    }
   ],
   "source": [
    "import pandas as pd\n",
    "x = 3.47\n",
    "type(x)\n",
    "int(x)\n",
    "x = 4\n",
    "x\n"
   ]
  },
  {
   "cell_type": "code",
   "execution_count": 22,
   "id": "1573bad3",
   "metadata": {},
   "outputs": [
    {
     "data": {
      "text/plain": [
       "'l'"
      ]
     },
     "execution_count": 22,
     "metadata": {},
     "output_type": "execute_result"
    }
   ],
   "source": [
    "name = 'data science summer school'\n",
    "char = name[-1]\n",
    "char"
   ]
  },
  {
   "cell_type": "markdown",
   "id": "dc03e98e",
   "metadata": {},
   "source": [
    "  \n",
    "  \n",
    "  \n",
    "  \n",
    "  "
   ]
  },
  {
   "cell_type": "code",
   "execution_count": null,
   "id": "979f0e7b",
   "metadata": {},
   "outputs": [
    {
     "data": {
      "text/plain": [
       "3"
      ]
     },
     "execution_count": 25,
     "metadata": {},
     "output_type": "execute_result"
    }
   ],
   "source": [
    "X = [[0,1],[1,2],[2,3],]\n",
    "x = X [2][1]\n",
    "x"
   ]
  },
  {
   "cell_type": "code",
   "execution_count": 28,
   "id": "30c79b05",
   "metadata": {},
   "outputs": [
    {
     "name": "stdout",
     "output_type": "stream",
     "text": [
      "Package                   Version\n",
      "------------------------- --------------\n",
      "absl-py                   2.2.2\n",
      "ale-py                    0.10.2\n",
      "anyio                     4.9.0\n",
      "argon2-cffi               23.1.0\n",
      "argon2-cffi-bindings      21.2.0\n",
      "arrow                     1.3.0\n",
      "asttokens                 3.0.0\n",
      "astunparse                1.6.3\n",
      "async-lru                 2.0.5\n",
      "attrs                     25.3.0\n",
      "babel                     2.17.0\n",
      "beautifulsoup4            4.13.4\n",
      "bleach                    6.2.0\n",
      "branca                    0.8.1\n",
      "certifi                   2025.1.31\n",
      "cffi                      1.17.1\n",
      "charset-normalizer        3.4.1\n",
      "cloudpickle               3.1.1\n",
      "colorama                  0.4.6\n",
      "comm                      0.2.2\n",
      "contourpy                 1.3.2\n",
      "cycler                    0.12.1\n",
      "debugpy                   1.8.14\n",
      "decorator                 5.2.1\n",
      "defusedxml                0.7.1\n",
      "et_xmlfile                2.0.0\n",
      "executing                 2.2.0\n",
      "Farama-Notifications      0.0.4\n",
      "fastjsonschema            2.21.1\n",
      "filelock                  3.18.0\n",
      "flatbuffers               25.2.10\n",
      "folium                    0.20.0\n",
      "fonttools                 4.57.0\n",
      "fqdn                      1.5.1\n",
      "fsspec                    2025.3.2\n",
      "gast                      0.6.0\n",
      "geodatasets               2024.8.0\n",
      "geopandas                 1.1.0\n",
      "google-pasta              0.2.0\n",
      "grpcio                    1.71.0\n",
      "gurobipy                  12.0.1\n",
      "gym                       0.26.2\n",
      "gym-notices               0.0.8\n",
      "gymnasium                 1.1.1\n",
      "h11                       0.14.0\n",
      "h5py                      3.13.0\n",
      "httpcore                  1.0.8\n",
      "httpx                     0.28.1\n",
      "idna                      3.10\n",
      "ipykernel                 6.29.5\n",
      "ipython                   9.1.0\n",
      "ipython_pygments_lexers   1.1.1\n",
      "ipywidgets                8.1.6\n",
      "isoduration               20.11.0\n",
      "jedi                      0.19.2\n",
      "Jinja2                    3.1.6\n",
      "joblib                    1.5.0\n",
      "json5                     0.12.0\n",
      "jsonpointer               3.0.0\n",
      "jsonschema                4.23.0\n",
      "jsonschema-specifications 2024.10.1\n",
      "jupyter                   1.1.1\n",
      "jupyter_client            8.6.3\n",
      "jupyter-console           6.6.3\n",
      "jupyter_core              5.7.2\n",
      "jupyter-events            0.12.0\n",
      "jupyter-lsp               2.2.5\n",
      "jupyter_server            2.15.0\n",
      "jupyter_server_terminals  0.5.3\n",
      "jupyterlab                4.4.0\n",
      "jupyterlab_pygments       0.3.0\n",
      "jupyterlab_server         2.27.3\n",
      "jupyterlab_widgets        3.0.14\n",
      "keras                     3.10.0\n",
      "keras-rl2                 1.0.5\n",
      "kiwisolver                1.4.8\n",
      "libclang                  18.1.1\n",
      "mapclassify               2.9.0\n",
      "Markdown                  3.8\n",
      "markdown-it-py            3.0.0\n",
      "MarkupSafe                3.0.2\n",
      "matplotlib                3.10.1\n",
      "matplotlib-inline         0.1.7\n",
      "mdurl                     0.1.2\n",
      "missingno                 0.5.2\n",
      "mistune                   3.1.3\n",
      "ml_dtypes                 0.5.1\n",
      "mpmath                    1.3.0\n",
      "namex                     0.0.9\n",
      "narwhals                  1.36.0\n",
      "nbclient                  0.10.2\n",
      "nbconvert                 7.16.6\n",
      "nbformat                  5.10.4\n",
      "nest-asyncio              1.6.0\n",
      "networkx                  3.4.2\n",
      "notebook                  7.4.0\n",
      "notebook_shim             0.2.4\n",
      "numpy                     2.1.3\n",
      "numpy-financial           1.0.0\n",
      "opencv-python             4.11.0.86\n",
      "openpyxl                  3.1.5\n",
      "opt_einsum                3.4.0\n",
      "optree                    0.15.0\n",
      "overrides                 7.7.0\n",
      "packaging                 24.2\n",
      "pandas                    2.2.3\n",
      "pandocfilters             1.5.1\n",
      "parso                     0.8.4\n",
      "patsy                     1.0.1\n",
      "pillow                    11.2.1\n",
      "pip                       25.0.1\n",
      "platformdirs              4.3.7\n",
      "plotly                    6.0.1\n",
      "ply                       3.11\n",
      "pooch                     1.8.2\n",
      "prometheus_client         0.21.1\n",
      "prompt_toolkit            3.0.51\n",
      "protobuf                  5.29.4\n",
      "psutil                    7.0.0\n",
      "pure_eval                 0.2.3\n",
      "pvlib                     0.12.0\n",
      "pycparser                 2.22\n",
      "pygame                    2.6.1\n",
      "Pygments                  2.19.1\n",
      "pyogrio                   0.11.0\n",
      "pyomo                     6.9.1\n",
      "pyparsing                 3.2.3\n",
      "pyproj                    3.7.1\n",
      "python-dateutil           2.9.0.post0\n",
      "python-json-logger        3.3.0\n",
      "pytz                      2025.2\n",
      "pywin32                   310\n",
      "pywinpty                  2.0.15\n",
      "PyYAML                    6.0.2\n",
      "pyzmq                     26.4.0\n",
      "rainflow                  3.2.0\n",
      "referencing               0.36.2\n",
      "requests                  2.32.3\n",
      "rfc3339-validator         0.1.4\n",
      "rfc3986-validator         0.1.1\n",
      "rich                      14.0.0\n",
      "rpds-py                   0.24.0\n",
      "scikit-learn              1.6.1\n",
      "scipy                     1.15.2\n",
      "seaborn                   0.13.2\n",
      "Send2Trash                1.8.3\n",
      "setuptools                78.1.0\n",
      "shapely                   2.1.1\n",
      "six                       1.17.0\n",
      "sniffio                   1.3.1\n",
      "soupsieve                 2.6\n",
      "stable_baselines3         2.6.0\n",
      "stack-data                0.6.3\n",
      "statsmodels               0.14.4\n",
      "sympy                     1.13.3\n",
      "tensorboard               2.19.0\n",
      "tensorboard-data-server   0.7.2\n",
      "tensorflow                2.19.0\n",
      "termcolor                 3.1.0\n",
      "terminado                 0.18.1\n",
      "threadpoolctl             3.6.0\n",
      "tinycss2                  1.4.0\n",
      "torch                     2.7.0\n",
      "tornado                   6.4.2\n",
      "tqdm                      4.67.1\n",
      "traitlets                 5.14.3\n",
      "types-python-dateutil     2.9.0.20241206\n",
      "typing_extensions         4.13.2\n",
      "tzdata                    2025.2\n",
      "uri-template              1.3.0\n",
      "urllib3                   2.4.0\n",
      "wcwidth                   0.2.13\n",
      "webcolors                 24.11.1\n",
      "webencodings              0.5.1\n",
      "websocket-client          1.8.0\n",
      "Werkzeug                  3.1.3\n",
      "wheel                     0.45.1\n",
      "widgetsnbextension        4.0.14\n",
      "wrapt                     1.17.2\n",
      "xyzservices               2025.4.0\n",
      "Note: you may need to restart the kernel to use updated packages.\n"
     ]
    }
   ],
   "source": [
    "pip list"
   ]
  },
  {
   "cell_type": "code",
   "execution_count": 29,
   "id": "ad0cdc7e",
   "metadata": {},
   "outputs": [
    {
     "data": {
      "text/plain": [
       "(3, 2)"
      ]
     },
     "execution_count": 29,
     "metadata": {},
     "output_type": "execute_result"
    }
   ],
   "source": [
    "d = pd.DataFrame({'A':[1,2,3], 'B': [3,2,1]})\n",
    "d.shape"
   ]
  },
  {
   "cell_type": "markdown",
   "id": "834b2fb6",
   "metadata": {},
   "source": [
    " "
   ]
  },
  {
   "cell_type": "markdown",
   "id": "aa490bb0",
   "metadata": {},
   "source": [
    " "
   ]
  },
  {
   "cell_type": "markdown",
   "id": "a7d36a0d",
   "metadata": {},
   "source": [
    "\n",
    "## **HOW TO ANSWER THIS EXAM**\n",
    "\n",
    "* The exam questions are presented in the following yellow box along with their corresponding scores. \n",
    "\n",
    "<div style=\"background-color: #FFEE99; padding: 25px; border-radius: 5px; margin-top: 25px;\">\n",
    "  QUESTION (X points)\n",
    "</div>\n",
    "\n",
    "\n",
    "\n",
    "* Some questions require short and concise answers. **Please write these answers in the designated section labeled \"write your answers below\"** as indicated below. **If the answer is not written in this section, it will be considered unanswered**.\n",
    "\n",
    "\n",
    "***************************\n",
    "\n",
    "**Write your answers below:**\n",
    "\n",
    "\n",
    "X.x) Here\n",
    "\n",
    "***************************\n",
    "\n",
    "\n",
    "* Other questions involve writing and executing code. Please execute the code in the appropriate section provided."
   ]
  },
  {
   "cell_type": "markdown",
   "id": "6472a314",
   "metadata": {},
   "source": [
    "  \n",
    "  \n",
    "  \n",
    "  \n",
    "  "
   ]
  },
  {
   "cell_type": "markdown",
   "id": "e1ae4bd0",
   "metadata": {},
   "source": [
    " "
   ]
  },
  {
   "cell_type": "markdown",
   "id": "6ba9cacd",
   "metadata": {},
   "source": [
    " "
   ]
  },
  {
   "cell_type": "markdown",
   "id": "0b404e81",
   "metadata": {},
   "source": [
    "# PV generation forecasting "
   ]
  },
  {
   "cell_type": "markdown",
   "id": "385df777",
   "metadata": {},
   "source": [
    "**Objective**: To predict the photovoltaic generation for the following day in a home with self-consumption. \n",
    "\n",
    "\n",
    "**Dataset Description**\n",
    "\n",
    "The dataset is: **``exam-pv.xlsx``**\n",
    "\n",
    "This dataset includes the following data:\n",
    "\n",
    "* ``datetime``: Date and time. \n",
    "* ``typeofday``: Detects if that day is week or weekend.\n",
    "* ``pressure``: Atmospheric pressure at the measurement site (hPa).\n",
    "* ``temperature``: Ambient air temperature measured in degrees Celsius (°C).\n",
    "* ``humidity``:Relative humidity expressed as a percentage, showing the amount of moisture in the air compared to the maximum it can hold at that temperature.\n",
    "* ``windspeed``: The speed of wind at the measurement site, recorded in meters per second (m/s).\n",
    "* ``rain``: Precipitation amount measured in millimeters (mm).\n",
    "* ``radiation``:  Solar radiation intensity received at the surface, measured in watts per square meter (W/m²).\n",
    "* ``pvgen``:  **TARGET**. Electrical power generated by photovoltaic systems (solar panels), measured in kilowatts hour (kWh).\n",
    "\n",
    "\n",
    "\n",
    "\n",
    "\n"
   ]
  },
  {
   "cell_type": "markdown",
   "id": "c45e951b",
   "metadata": {},
   "source": [
    "# Import libraries"
   ]
  },
  {
   "cell_type": "code",
   "execution_count": 1,
   "id": "524ba021",
   "metadata": {},
   "outputs": [],
   "source": [
    "\n",
    "import pandas as pd\n",
    "import matplotlib.pyplot as plt\n",
    "import seaborn as sns\n"
   ]
  },
  {
   "cell_type": "markdown",
   "id": "23d25fa8",
   "metadata": {},
   "source": [
    "# Load dataset"
   ]
  },
  {
   "cell_type": "code",
   "execution_count": 2,
   "id": "9d158dc7",
   "metadata": {},
   "outputs": [
    {
     "data": {
      "text/html": [
       "<div>\n",
       "<style scoped>\n",
       "    .dataframe tbody tr th:only-of-type {\n",
       "        vertical-align: middle;\n",
       "    }\n",
       "\n",
       "    .dataframe tbody tr th {\n",
       "        vertical-align: top;\n",
       "    }\n",
       "\n",
       "    .dataframe thead th {\n",
       "        text-align: right;\n",
       "    }\n",
       "</style>\n",
       "<table border=\"1\" class=\"dataframe\">\n",
       "  <thead>\n",
       "    <tr style=\"text-align: right;\">\n",
       "      <th></th>\n",
       "      <th>localhour</th>\n",
       "      <th>pressure</th>\n",
       "      <th>temperature</th>\n",
       "      <th>humidity</th>\n",
       "      <th>windspeed</th>\n",
       "      <th>rain</th>\n",
       "      <th>radiation</th>\n",
       "      <th>pvgen</th>\n",
       "    </tr>\n",
       "  </thead>\n",
       "  <tbody>\n",
       "    <tr>\n",
       "      <th>0</th>\n",
       "      <td>19/02/2015 12:00</td>\n",
       "      <td>1024.4</td>\n",
       "      <td>17.0</td>\n",
       "      <td>56.0</td>\n",
       "      <td>4.0</td>\n",
       "      <td>0.0</td>\n",
       "      <td>672.0</td>\n",
       "      <td>6.646</td>\n",
       "    </tr>\n",
       "    <tr>\n",
       "      <th>1</th>\n",
       "      <td>19/02/2015 13:00</td>\n",
       "      <td>1022.8</td>\n",
       "      <td>18.0</td>\n",
       "      <td>47.0</td>\n",
       "      <td>4.0</td>\n",
       "      <td>0.0</td>\n",
       "      <td>865.0</td>\n",
       "      <td>7.364</td>\n",
       "    </tr>\n",
       "    <tr>\n",
       "      <th>2</th>\n",
       "      <td>19/02/2015 14:00</td>\n",
       "      <td>1021.4</td>\n",
       "      <td>19.0</td>\n",
       "      <td>47.0</td>\n",
       "      <td>4.0</td>\n",
       "      <td>0.0</td>\n",
       "      <td>781.0</td>\n",
       "      <td>7.418</td>\n",
       "    </tr>\n",
       "    <tr>\n",
       "      <th>3</th>\n",
       "      <td>19/02/2015 15:00</td>\n",
       "      <td>1019.9</td>\n",
       "      <td>20.0</td>\n",
       "      <td>41.0</td>\n",
       "      <td>4.0</td>\n",
       "      <td>0.0</td>\n",
       "      <td>664.0</td>\n",
       "      <td>6.616</td>\n",
       "    </tr>\n",
       "    <tr>\n",
       "      <th>4</th>\n",
       "      <td>19/02/2015 16:00</td>\n",
       "      <td>1018.6</td>\n",
       "      <td>21.0</td>\n",
       "      <td>42.0</td>\n",
       "      <td>4.0</td>\n",
       "      <td>0.0</td>\n",
       "      <td>505.0</td>\n",
       "      <td>4.795</td>\n",
       "    </tr>\n",
       "    <tr>\n",
       "      <th>...</th>\n",
       "      <td>...</td>\n",
       "      <td>...</td>\n",
       "      <td>...</td>\n",
       "      <td>...</td>\n",
       "      <td>...</td>\n",
       "      <td>...</td>\n",
       "      <td>...</td>\n",
       "      <td>...</td>\n",
       "    </tr>\n",
       "    <tr>\n",
       "      <th>25029</th>\n",
       "      <td>01/05/2018 19:00</td>\n",
       "      <td>1013.6</td>\n",
       "      <td>25.0</td>\n",
       "      <td>85.0</td>\n",
       "      <td>0.0</td>\n",
       "      <td>0.0</td>\n",
       "      <td>125.0</td>\n",
       "      <td>0.060</td>\n",
       "    </tr>\n",
       "    <tr>\n",
       "      <th>25030</th>\n",
       "      <td>01/05/2018 20:00</td>\n",
       "      <td>1014.0</td>\n",
       "      <td>24.0</td>\n",
       "      <td>84.0</td>\n",
       "      <td>0.0</td>\n",
       "      <td>0.0</td>\n",
       "      <td>2.0</td>\n",
       "      <td>0.000</td>\n",
       "    </tr>\n",
       "    <tr>\n",
       "      <th>25031</th>\n",
       "      <td>01/05/2018 21:00</td>\n",
       "      <td>1014.6</td>\n",
       "      <td>24.0</td>\n",
       "      <td>85.0</td>\n",
       "      <td>0.0</td>\n",
       "      <td>0.0</td>\n",
       "      <td>0.0</td>\n",
       "      <td>0.000</td>\n",
       "    </tr>\n",
       "    <tr>\n",
       "      <th>25032</th>\n",
       "      <td>01/05/2018 22:00</td>\n",
       "      <td>1015.3</td>\n",
       "      <td>24.0</td>\n",
       "      <td>86.0</td>\n",
       "      <td>0.0</td>\n",
       "      <td>0.0</td>\n",
       "      <td>0.0</td>\n",
       "      <td>0.000</td>\n",
       "    </tr>\n",
       "    <tr>\n",
       "      <th>25033</th>\n",
       "      <td>01/05/2018 23:00</td>\n",
       "      <td>1015.3</td>\n",
       "      <td>24.0</td>\n",
       "      <td>86.0</td>\n",
       "      <td>0.0</td>\n",
       "      <td>0.0</td>\n",
       "      <td>0.0</td>\n",
       "      <td>0.000</td>\n",
       "    </tr>\n",
       "  </tbody>\n",
       "</table>\n",
       "<p>25034 rows × 8 columns</p>\n",
       "</div>"
      ],
      "text/plain": [
       "              localhour  pressure  temperature  humidity  windspeed  rain  \\\n",
       "0      19/02/2015 12:00    1024.4         17.0      56.0        4.0   0.0   \n",
       "1      19/02/2015 13:00    1022.8         18.0      47.0        4.0   0.0   \n",
       "2      19/02/2015 14:00    1021.4         19.0      47.0        4.0   0.0   \n",
       "3      19/02/2015 15:00    1019.9         20.0      41.0        4.0   0.0   \n",
       "4      19/02/2015 16:00    1018.6         21.0      42.0        4.0   0.0   \n",
       "...                 ...       ...          ...       ...        ...   ...   \n",
       "25029  01/05/2018 19:00    1013.6         25.0      85.0        0.0   0.0   \n",
       "25030  01/05/2018 20:00    1014.0         24.0      84.0        0.0   0.0   \n",
       "25031  01/05/2018 21:00    1014.6         24.0      85.0        0.0   0.0   \n",
       "25032  01/05/2018 22:00    1015.3         24.0      86.0        0.0   0.0   \n",
       "25033  01/05/2018 23:00    1015.3         24.0      86.0        0.0   0.0   \n",
       "\n",
       "       radiation  pvgen  \n",
       "0          672.0  6.646  \n",
       "1          865.0  7.364  \n",
       "2          781.0  7.418  \n",
       "3          664.0  6.616  \n",
       "4          505.0  4.795  \n",
       "...          ...    ...  \n",
       "25029      125.0  0.060  \n",
       "25030        2.0  0.000  \n",
       "25031        0.0  0.000  \n",
       "25032        0.0  0.000  \n",
       "25033        0.0  0.000  \n",
       "\n",
       "[25034 rows x 8 columns]"
      ]
     },
     "execution_count": 2,
     "metadata": {},
     "output_type": "execute_result"
    }
   ],
   "source": [
    "df = pd.read_csv('Data/EJ1-data-pv.csv', delimiter=';')\n",
    "df"
   ]
  },
  {
   "cell_type": "code",
   "execution_count": 33,
   "id": "76a65c95",
   "metadata": {},
   "outputs": [],
   "source": [
    "read_excel_file = pd.read_excel('Data\\input_data.xlsx', header=0, sheet_name='Nothing', na_values=['Missing'])"
   ]
  },
  {
   "cell_type": "code",
   "execution_count": 70,
   "id": "29a70079",
   "metadata": {},
   "outputs": [
    {
     "ename": "TypeError",
     "evalue": "no numeric data to plot",
     "output_type": "error",
     "traceback": [
      "\u001b[1;31m---------------------------------------------------------------------------\u001b[0m",
      "\u001b[1;31mTypeError\u001b[0m                                 Traceback (most recent call last)",
      "Cell \u001b[1;32mIn[70], line 2\u001b[0m\n\u001b[0;32m      1\u001b[0m \u001b[38;5;28;01mfor\u001b[39;00m i \u001b[38;5;129;01min\u001b[39;00m df\u001b[38;5;241m.\u001b[39mcolumns:\n\u001b[1;32m----> 2\u001b[0m     \u001b[43mdf\u001b[49m\u001b[43m[\u001b[49m\u001b[43mi\u001b[49m\u001b[43m]\u001b[49m\u001b[38;5;241;43m.\u001b[39;49m\u001b[43mplot\u001b[49m\u001b[43m(\u001b[49m\u001b[43mkind\u001b[49m\u001b[38;5;241;43m=\u001b[39;49m\u001b[38;5;124;43m'\u001b[39;49m\u001b[38;5;124;43mbox\u001b[39;49m\u001b[38;5;124;43m'\u001b[39;49m\u001b[43m)\u001b[49m\n\u001b[0;32m      3\u001b[0m     plt\u001b[38;5;241m.\u001b[39mshow()\n",
      "File \u001b[1;32m~\\AppData\\Local\\Packages\\PythonSoftwareFoundation.Python.3.11_qbz5n2kfra8p0\\LocalCache\\local-packages\\Python311\\site-packages\\pandas\\plotting\\_core.py:1031\u001b[0m, in \u001b[0;36mPlotAccessor.__call__\u001b[1;34m(self, *args, **kwargs)\u001b[0m\n\u001b[0;32m   1028\u001b[0m             label_name \u001b[38;5;241m=\u001b[39m label_kw \u001b[38;5;129;01mor\u001b[39;00m data\u001b[38;5;241m.\u001b[39mcolumns\n\u001b[0;32m   1029\u001b[0m             data\u001b[38;5;241m.\u001b[39mcolumns \u001b[38;5;241m=\u001b[39m label_name\n\u001b[1;32m-> 1031\u001b[0m \u001b[38;5;28;01mreturn\u001b[39;00m \u001b[43mplot_backend\u001b[49m\u001b[38;5;241;43m.\u001b[39;49m\u001b[43mplot\u001b[49m\u001b[43m(\u001b[49m\u001b[43mdata\u001b[49m\u001b[43m,\u001b[49m\u001b[43m \u001b[49m\u001b[43mkind\u001b[49m\u001b[38;5;241;43m=\u001b[39;49m\u001b[43mkind\u001b[49m\u001b[43m,\u001b[49m\u001b[43m \u001b[49m\u001b[38;5;241;43m*\u001b[39;49m\u001b[38;5;241;43m*\u001b[39;49m\u001b[43mkwargs\u001b[49m\u001b[43m)\u001b[49m\n",
      "File \u001b[1;32m~\\AppData\\Local\\Packages\\PythonSoftwareFoundation.Python.3.11_qbz5n2kfra8p0\\LocalCache\\local-packages\\Python311\\site-packages\\pandas\\plotting\\_matplotlib\\__init__.py:71\u001b[0m, in \u001b[0;36mplot\u001b[1;34m(data, kind, **kwargs)\u001b[0m\n\u001b[0;32m     69\u001b[0m         kwargs[\u001b[38;5;124m\"\u001b[39m\u001b[38;5;124max\u001b[39m\u001b[38;5;124m\"\u001b[39m] \u001b[38;5;241m=\u001b[39m \u001b[38;5;28mgetattr\u001b[39m(ax, \u001b[38;5;124m\"\u001b[39m\u001b[38;5;124mleft_ax\u001b[39m\u001b[38;5;124m\"\u001b[39m, ax)\n\u001b[0;32m     70\u001b[0m plot_obj \u001b[38;5;241m=\u001b[39m PLOT_CLASSES[kind](data, \u001b[38;5;241m*\u001b[39m\u001b[38;5;241m*\u001b[39mkwargs)\n\u001b[1;32m---> 71\u001b[0m \u001b[43mplot_obj\u001b[49m\u001b[38;5;241;43m.\u001b[39;49m\u001b[43mgenerate\u001b[49m\u001b[43m(\u001b[49m\u001b[43m)\u001b[49m\n\u001b[0;32m     72\u001b[0m plot_obj\u001b[38;5;241m.\u001b[39mdraw()\n\u001b[0;32m     73\u001b[0m \u001b[38;5;28;01mreturn\u001b[39;00m plot_obj\u001b[38;5;241m.\u001b[39mresult\n",
      "File \u001b[1;32m~\\AppData\\Local\\Packages\\PythonSoftwareFoundation.Python.3.11_qbz5n2kfra8p0\\LocalCache\\local-packages\\Python311\\site-packages\\pandas\\plotting\\_matplotlib\\core.py:451\u001b[0m, in \u001b[0;36mMPLPlot.generate\u001b[1;34m(self)\u001b[0m\n\u001b[0;32m    449\u001b[0m \u001b[38;5;28;01mdef\u001b[39;00m \u001b[38;5;21mgenerate\u001b[39m(\u001b[38;5;28mself\u001b[39m) \u001b[38;5;241m-\u001b[39m\u001b[38;5;241m>\u001b[39m \u001b[38;5;28;01mNone\u001b[39;00m:\n\u001b[0;32m    450\u001b[0m     \u001b[38;5;28mself\u001b[39m\u001b[38;5;241m.\u001b[39m_args_adjust()\n\u001b[1;32m--> 451\u001b[0m     \u001b[38;5;28;43mself\u001b[39;49m\u001b[38;5;241;43m.\u001b[39;49m\u001b[43m_compute_plot_data\u001b[49m\u001b[43m(\u001b[49m\u001b[43m)\u001b[49m\n\u001b[0;32m    452\u001b[0m     \u001b[38;5;28mself\u001b[39m\u001b[38;5;241m.\u001b[39m_setup_subplots()\n\u001b[0;32m    453\u001b[0m     \u001b[38;5;28mself\u001b[39m\u001b[38;5;241m.\u001b[39m_make_plot()\n",
      "File \u001b[1;32m~\\AppData\\Local\\Packages\\PythonSoftwareFoundation.Python.3.11_qbz5n2kfra8p0\\LocalCache\\local-packages\\Python311\\site-packages\\pandas\\plotting\\_matplotlib\\core.py:636\u001b[0m, in \u001b[0;36mMPLPlot._compute_plot_data\u001b[1;34m(self)\u001b[0m\n\u001b[0;32m    634\u001b[0m \u001b[38;5;66;03m# no non-numeric frames or series allowed\u001b[39;00m\n\u001b[0;32m    635\u001b[0m \u001b[38;5;28;01mif\u001b[39;00m is_empty:\n\u001b[1;32m--> 636\u001b[0m     \u001b[38;5;28;01mraise\u001b[39;00m \u001b[38;5;167;01mTypeError\u001b[39;00m(\u001b[38;5;124m\"\u001b[39m\u001b[38;5;124mno numeric data to plot\u001b[39m\u001b[38;5;124m\"\u001b[39m)\n\u001b[0;32m    638\u001b[0m \u001b[38;5;28mself\u001b[39m\u001b[38;5;241m.\u001b[39mdata \u001b[38;5;241m=\u001b[39m numeric_data\u001b[38;5;241m.\u001b[39mapply(\u001b[38;5;28mself\u001b[39m\u001b[38;5;241m.\u001b[39m_convert_to_ndarray)\n",
      "\u001b[1;31mTypeError\u001b[0m: no numeric data to plot"
     ]
    }
   ],
   "source": []
  },
  {
   "cell_type": "code",
   "execution_count": 32,
   "id": "52ebb8b0",
   "metadata": {},
   "outputs": [
    {
     "name": "stdout",
     "output_type": "stream",
     "text": [
      "2\n"
     ]
    }
   ],
   "source": [
    "import numpy as np\n",
    "read_excel_file.head()\n",
    "read_excel_file.rename(columns={'Name':'Surname'},inplace=True)\n",
    "read_excel_file['last name'] = np.tile(read_excel_file['Surname'].iloc[:3],1) #repeat only one time\n",
    "print(read_excel_file.index[2])"
   ]
  },
  {
   "cell_type": "code",
   "execution_count": 5,
   "id": "bd2b46be",
   "metadata": {},
   "outputs": [
    {
     "name": "stderr",
     "output_type": "stream",
     "text": [
      "C:\\Users\\stsad\\AppData\\Local\\Temp\\ipykernel_21320\\2770773826.py:2: FutureWarning: DataFrame.fillna with 'method' is deprecated and will raise in a future version. Use obj.ffill() or obj.bfill() instead.\n",
      "  read_excel_file.fillna(method='ffill', inplace=True)\n"
     ]
    }
   ],
   "source": [
    "read_excel_file['Time']= pd.date_range('2025-01-01', periods=len(read_excel_file), freq='h')\n",
    "read_excel_file.fillna(method='ffill', inplace=True)"
   ]
  },
  {
   "cell_type": "code",
   "execution_count": 6,
   "id": "c4d96334",
   "metadata": {},
   "outputs": [
    {
     "data": {
      "text/plain": [
       "0    2.0\n",
       "Name: Age, dtype: float64"
      ]
     },
     "execution_count": 6,
     "metadata": {},
     "output_type": "execute_result"
    }
   ],
   "source": [
    "age = read_excel_file['Age'].iloc[:1]\n",
    "age"
   ]
  },
  {
   "cell_type": "code",
   "execution_count": 7,
   "id": "db21da0c",
   "metadata": {},
   "outputs": [
    {
     "data": {
      "text/plain": [
       "array([0.2, 0.3, 0.4])"
      ]
     },
     "execution_count": 7,
     "metadata": {},
     "output_type": "execute_result"
    }
   ],
   "source": [
    "y = {'t':[1,2,3],'y':[2,3,4]}\n",
    "o = [np.arange(3)]\n",
    "z = pd.DataFrame(data=y, index=o)\n",
    "z['y'].values/10"
   ]
  },
  {
   "cell_type": "code",
   "execution_count": 8,
   "id": "cce0e5e6",
   "metadata": {},
   "outputs": [],
   "source": [
    "# **Understanding the data**\n",
    "\n",
    "\n"
   ]
  },
  {
   "cell_type": "markdown",
   "id": "cb333ab2",
   "metadata": {},
   "source": [
    "<div style=\"background-color: #FFEE99; padding: 25px; border-radius: 5px; margin-top: 25px;\">\n",
    "\n",
    "**QUESTION 1**                  (1 point)\n",
    "    \n",
    "    1.1) Which feature has more missing data? How many? (0.2 p)\n",
    "    1.2) Which is the maximum output power generated by the PV generator? (0.2 p)\n",
    "    1.3) Determine the percentage of data points where PV generation is zero. Round to two decimals. (0.2 p)\n",
    "    1.4) List all unique data types present in the dataset. (0.2 p)\n",
    "    1.5) How many rows and columns does the dataset contain? (0.2p)\n",
    "  \n",
    "    \n",
    "</div>\n"
   ]
  },
  {
   "cell_type": "markdown",
   "id": "f1d71c57",
   "metadata": {},
   "source": [
    "***************************\n",
    "\n",
    "**Write your answers below:**\n",
    "\n",
    "\n",
    "1.1) \n",
    "\n",
    "1.2)\n",
    "\n",
    "1.3) \n",
    "\n",
    "1.4) \n",
    "\n",
    "1.5) \n",
    "\n",
    "\n",
    "***************************\n"
   ]
  },
  {
   "cell_type": "markdown",
   "id": "e7596d96",
   "metadata": {},
   "source": [
    "### <span style=\"color: blue;\"> >> Write the code below for solving the question</span>"
   ]
  },
  {
   "cell_type": "code",
   "execution_count": 9,
   "id": "837fab1e",
   "metadata": {},
   "outputs": [
    {
     "data": {
      "text/plain": [
       "<Axes: >"
      ]
     },
     "execution_count": 9,
     "metadata": {},
     "output_type": "execute_result"
    },
    {
     "data": {
      "image/png": "[encoded data removed]",
      "text/plain": [
       "<Figure size 2500x1000 with 2 Axes>"
      ]
     },
     "metadata": {},
     "output_type": "display_data"
    }
   ],
   "source": [
    "import missingno as msno\n",
    "msno.matrix(df)"
   ]
  },
  {
   "cell_type": "code",
   "execution_count": 10,
   "id": "5cdbcf7d",
   "metadata": {},
   "outputs": [],
   "source": [
    "zero = df[df['pvgen']==0]"
   ]
  },
  {
   "cell_type": "markdown",
   "id": "491e31a4",
   "metadata": {},
   "source": [
    "<div style=\"background-color: #FFEE99; padding: 25px; border-radius: 5px; margin-top: 25px;\">\n",
    "\n",
    "**QUESTION 2**                  (0.5 point)\n",
    "    \n",
    "    2.1) Transform the string data into numerical values using the one hot encoding method. \n",
    "   \n",
    "    \n",
    "</div>"
   ]
  },
  {
   "cell_type": "markdown",
   "id": "8976e6aa",
   "metadata": {},
   "source": [
    "*********************\n",
    "\n",
    "**Write your answer below** \n",
    "\n",
    "\n",
    "2.1)  Not Answer Needed (Only code)\n",
    "\n",
    "\n",
    "*********************\n"
   ]
  },
  {
   "cell_type": "markdown",
   "id": "72e088b6",
   "metadata": {},
   "source": [
    "### <span style=\"color: blue;\"> >> Write the code below for solving the question</span>"
   ]
  },
  {
   "cell_type": "markdown",
   "id": "8b65bd40",
   "metadata": {},
   "source": [
    "<span style=\"color: blue;\"> 2.1) Transform the string data into numerical values using the one hot encoding method. </span>\n",
    "\n"
   ]
  },
  {
   "cell_type": "code",
   "execution_count": 11,
   "id": "bb073ea1",
   "metadata": {},
   "outputs": [
    {
     "name": "stdout",
     "output_type": "stream",
     "text": [
      "  (0, 2)\t1.0\n",
      "  (1, 0)\t1.0\n",
      "  (2, 1)\t1.0\n",
      "  (3, 2)\t1.0\n",
      "  (4, 0)\t1.0\n"
     ]
    }
   ],
   "source": [
    "data = {'color':['red','blue','green','red','blue']}\n",
    "x = pd.DataFrame(data=data)\n",
    "encoded_x= pd.get_dummies(x,columns=['color'])\n",
    "encoded_x\n",
    "\n",
    "from sklearn.preprocessing import OneHotEncoder\n",
    "# Example data\n",
    "data = [['Red'], ['Blue'], ['Green'], ['Red'], ['Blue']]\n",
    "# Initialize OneHotEncoder\n",
    "encoder = OneHotEncoder()\n",
    "# Transform the data\n",
    "encoded_data = encoder.fit_transform(data)\n",
    "print(encoded_data)"
   ]
  },
  {
   "cell_type": "code",
   "execution_count": 12,
   "id": "a754c21b",
   "metadata": {},
   "outputs": [
    {
     "name": "stdout",
     "output_type": "stream",
     "text": [
      "['Color_Blue' 'Color_Green' 'Color_Red']\n"
     ]
    }
   ],
   "source": [
    "print(encoder.get_feature_names_out(['Color']))"
   ]
  },
  {
   "cell_type": "markdown",
   "id": "4ac645f4",
   "metadata": {},
   "source": [
    "\n",
    "<div style=\"background-color: #f0f0f0; padding: 25px; border-radius: 5px; font-weight: bold; margin-top: 25px;\">\n",
    "\n",
    "## Visualize the data\n",
    "    \n",
    "</div>\n",
    "\n",
    "\n",
    "\n"
   ]
  },
  {
   "cell_type": "markdown",
   "id": "c33afab5",
   "metadata": {},
   "source": [
    "<div style=\"background-color: #FFEE99; padding: 25px; border-radius: 5px; margin-top: 25px;\">\n",
    "\n",
    "**QUESTION 3**                  (0.5 point)\n",
    "    \n",
    "    3.1) Plot the histogram and plot the density plots (0.25 pt)\n",
    "    3.2) Is humidity is right-skewed or left-skewed? (0.25 pt)\n",
    "    \n",
    "</div>"
   ]
  },
  {
   "cell_type": "markdown",
   "id": "ba8037de",
   "metadata": {},
   "source": [
    "***************************\n",
    "**Write your answers below:**\n",
    "\n",
    "\n",
    "3.1) Not Answer Needed (Only code)\n",
    "\n",
    "\n",
    "3.2) \n",
    "\n",
    "***************************\n"
   ]
  },
  {
   "cell_type": "markdown",
   "id": "e5290b98",
   "metadata": {},
   "source": [
    "### <span style=\"color: blue;\"> >> Write the code below for solving the question</span>"
   ]
  },
  {
   "cell_type": "markdown",
   "id": "c808a5ce",
   "metadata": {},
   "source": [
    "<span style=\"color: blue;\"> 3.1) Plot the histogram and plot the density plot (datetime column should be avoided here)</span>\n",
    "\n"
   ]
  },
  {
   "cell_type": "code",
   "execution_count": null,
   "id": "ec65b161",
   "metadata": {},
   "outputs": [],
   "source": []
  },
  {
   "cell_type": "code",
   "execution_count": null,
   "id": "415ef834",
   "metadata": {},
   "outputs": [],
   "source": []
  },
  {
   "cell_type": "markdown",
   "id": "b1656353",
   "metadata": {},
   "source": [
    "<div style=\"background-color: #FFEE99; padding: 25px; border-radius: 5px; margin-top: 25px;\">\n",
    "\n",
    "**QUESTION 4**                  (0.25 point)\n",
    "    \n",
    "    4.1) Boxplot of each feature \n",
    "    \n",
    "</div>\n"
   ]
  },
  {
   "cell_type": "markdown",
   "id": "a335ed23",
   "metadata": {},
   "source": [
    "*********************\n",
    "\n",
    "**Write your answer below** \n",
    "\n",
    "\n",
    "4.1)   Not Answer Needed (Only code)\n",
    "\n",
    "\n",
    "*********************"
   ]
  },
  {
   "cell_type": "markdown",
   "id": "e51b0072",
   "metadata": {},
   "source": [
    "### <span style=\"color: blue;\"> >> Write the code below for solving the question</span>"
   ]
  },
  {
   "cell_type": "markdown",
   "id": "3f5971e0",
   "metadata": {},
   "source": [
    "<span style=\"color: blue;\"> 4.1) Boxplot of each feature </span> "
   ]
  },
  {
   "cell_type": "code",
   "execution_count": null,
   "id": "8c14c26b",
   "metadata": {},
   "outputs": [],
   "source": []
  },
  {
   "cell_type": "code",
   "execution_count": null,
   "id": "59c34f80",
   "metadata": {},
   "outputs": [],
   "source": []
  },
  {
   "cell_type": "markdown",
   "id": "4f7e8c7e",
   "metadata": {},
   "source": [
    "<div style=\"background-color: #FFEE99; padding: 25px; border-radius: 5px; margin-top: 25px;\">\n",
    "    \n",
    "**QUESTION 5**                  (1point)\n",
    "    \n",
    "   Create a box plot of PV generation by month to be able to answer these questions\n",
    "    \n",
    "    5.1) Which two months have the highest pvgen median? (0.25 pt)\n",
    "    5.2) Which month has the lowest pvgen interquartile range? (0.25 pt)\n",
    "    5.3) Which is the average pvgeneration for the month of April? Round to the 2 decimals. (0.5 pt)\n",
    "    \n",
    "    \n",
    "</div>"
   ]
  },
  {
   "cell_type": "markdown",
   "id": "c8f4f117",
   "metadata": {},
   "source": [
    "***************************\n",
    "\n",
    "**Write your anwers below:**\n",
    "    \n",
    "    \n",
    "5.1) \n",
    "\n",
    "\n",
    "5.2) \n",
    "\n",
    "\n",
    "5.3) \n",
    "\n",
    "\n",
    "***************************"
   ]
  },
  {
   "cell_type": "markdown",
   "id": "f36b7180",
   "metadata": {},
   "source": [
    "### <span style=\"color: blue;\"> >> Write the code below for solving the question</span>"
   ]
  },
  {
   "cell_type": "code",
   "execution_count": 13,
   "id": "02e41736",
   "metadata": {},
   "outputs": [],
   "source": [
    "df['localhour']= pd.to_datetime(df['localhour'],format='%d/%m/%Y %H:%M')\n",
    "df['Month'] = df['localhour'].dt.strftime('%B')"
   ]
  },
  {
   "cell_type": "code",
   "execution_count": 14,
   "id": "a348a7b9",
   "metadata": {},
   "outputs": [
    {
     "data": {
      "text/plain": [
       "0        February\n",
       "1        February\n",
       "2        February\n",
       "3        February\n",
       "4        February\n",
       "           ...   \n",
       "25029         May\n",
       "25030         May\n",
       "25031         May\n",
       "25032         May\n",
       "25033         May\n",
       "Name: Month, Length: 25034, dtype: object"
      ]
     },
     "execution_count": 14,
     "metadata": {},
     "output_type": "execute_result"
    }
   ],
   "source": [
    "df['Month']"
   ]
  },
  {
   "cell_type": "code",
   "execution_count": 15,
   "id": "bfb798a7",
   "metadata": {},
   "outputs": [
    {
     "name": "stderr",
     "output_type": "stream",
     "text": [
      "C:\\Users\\stsad\\AppData\\Local\\Temp\\ipykernel_21320\\760588530.py:5: FutureWarning: \n",
      "\n",
      "Passing `palette` without assigning `hue` is deprecated and will be removed in v0.14.0. Assign the `x` variable to `hue` and set `legend=False` for the same effect.\n",
      "\n",
      "  sns.boxplot(x='Month', y='pvgen', data=df, order=['January','February','March','April','May','June','July','August','September','October','Novemeber','December'], palette='coolwarm')\n"
     ]
    },
    {
     "data": {
      "image/png": "[encoded data removed]",
      "text/plain": [
       "<Figure size 1200x600 with 1 Axes>"
      ]
     },
     "metadata": {},
     "output_type": "display_data"
    }
   ],
   "source": [
    "# set plot size\n",
    "plt.figure(figsize=(12,6))\n",
    "\n",
    "# create a box plot with seaborn\n",
    "sns.boxplot(x='Month', y='pvgen', data=df, order=['January','February','March','April','May','June','July','August','September','October','Novemeber','December'], palette='coolwarm')\n",
    "plt.xlabel('Month')\n",
    "plt.ylabel('PV Generation')\n",
    "plt.title('PV generation by Month (Box plot)')\n",
    "plt.xticks(rotation = 45)\n",
    "plt.show()"
   ]
  },
  {
   "cell_type": "code",
   "execution_count": 16,
   "id": "7408a99d",
   "metadata": {},
   "outputs": [
    {
     "name": "stdout",
     "output_type": "stream",
     "text": [
      "Month\n",
      "June    0.312\n",
      "July    0.311\n",
      "Name: pvgen, dtype: float64\n"
     ]
    }
   ],
   "source": [
    "median_pvgen = df.groupby('Month')['pvgen'].median().sort_values(ascending=False)\n",
    "print(median_pvgen.head(2))"
   ]
  },
  {
   "cell_type": "code",
   "execution_count": 17,
   "id": "6bc58887",
   "metadata": {},
   "outputs": [
    {
     "name": "stdout",
     "output_type": "stream",
     "text": [
      "Month with lowest IQR: December\n"
     ]
    }
   ],
   "source": [
    "iqr_pvgen = df.groupby('Month')['pvgen'].quantile(0.75) - df.groupby('Month')['pvgen'].quantile(0.25)\n",
    "lowest_iqr_month = iqr_pvgen.idxmin()\n",
    "print(f'Month with lowest IQR: {lowest_iqr_month}')"
   ]
  },
  {
   "cell_type": "code",
   "execution_count": 18,
   "id": "3e88454b",
   "metadata": {},
   "outputs": [
    {
     "name": "stdout",
     "output_type": "stream",
     "text": [
      "Average pv generation for april: 2\n"
     ]
    }
   ],
   "source": [
    "april_Avg = df[df['Month'] == 'April']['pvgen'].mean()\n",
    "print(f'Average pv generation for april: {round(april_Avg)}')"
   ]
  },
  {
   "cell_type": "code",
   "execution_count": 19,
   "id": "e07fd4ab",
   "metadata": {},
   "outputs": [],
   "source": [
    "df.set_index('localhour')\n",
    "New = df.drop(columns=['pressure','temperature','windspeed','rain','radiation','Month','humidity'])"
   ]
  },
  {
   "cell_type": "code",
   "execution_count": 20,
   "id": "8f646e57",
   "metadata": {},
   "outputs": [],
   "source": [
    "New.set_index('localhour',inplace=True)\n",
    "New['hour'] = New.index.hour"
   ]
  },
  {
   "cell_type": "code",
   "execution_count": 21,
   "id": "0089f0d9",
   "metadata": {},
   "outputs": [
    {
     "data": {
      "text/plain": [
       "<Axes: title={'center': 'Daily PV gen'}, xlabel='None,hour'>"
      ]
     },
     "execution_count": 21,
     "metadata": {},
     "output_type": "execute_result"
    },
    {
     "data": {
      "image/png": "[encoded data removed]",
      "text/plain": [
       "<Figure size 1800x800 with 1 Axes>"
      ]
     },
     "metadata": {},
     "output_type": "display_data"
    }
   ],
   "source": [
    "New_pivot = New.pivot(columns='hour')\n",
    "New_pivot.T.plot(figsize=(18, 8), title='Daily PV gen', legend=False, color='blue', alpha=0.04)"
   ]
  },
  {
   "cell_type": "markdown",
   "id": "8a5ae85c",
   "metadata": {},
   "source": [
    "<div style=\"background-color: #FFEE99; padding: 25px; border-radius: 5px; margin-top: 25px;\">\n",
    "\n",
    "**QUESTION 6**                  (0.25 point)\n",
    "    \n",
    "    6.1) Create a correlation matrix using the spearman methodology. Print the numeric correlation matrix and plot the correlation color matrix.\n",
    "    \n",
    "   \n",
    "    \n",
    "</div>"
   ]
  },
  {
   "cell_type": "markdown",
   "id": "ba2b628a",
   "metadata": {},
   "source": [
    "*********************\n",
    "\n",
    "**Write your answer below** \n",
    "\n",
    "\n",
    "6.1)   Not Answer Needed (Only code)\n",
    "\n",
    "\n",
    "*********************"
   ]
  },
  {
   "cell_type": "markdown",
   "id": "cd8e45b8",
   "metadata": {},
   "source": [
    "### <span style=\"color: blue;\"> >> Write the code below for solving the question</span>"
   ]
  },
  {
   "cell_type": "markdown",
   "id": "1d10a927",
   "metadata": {},
   "source": [
    "<span style=\"color: blue;\"> 6.1) Create a correlation matrix using the spearman methodology, and plot the coefficients in a color matrix </span> "
   ]
  },
  {
   "cell_type": "code",
   "execution_count": null,
   "id": "621e005a",
   "metadata": {},
   "outputs": [],
   "source": [
    "\n",
    "\n",
    "\n",
    "\n",
    "\n",
    "\n",
    "\n",
    "\n"
   ]
  },
  {
   "cell_type": "code",
   "execution_count": null,
   "id": "eb05fdb7",
   "metadata": {},
   "outputs": [],
   "source": []
  },
  {
   "cell_type": "code",
   "execution_count": null,
   "id": "d521c12b",
   "metadata": {},
   "outputs": [],
   "source": []
  },
  {
   "cell_type": "code",
   "execution_count": null,
   "id": "51f03951",
   "metadata": {},
   "outputs": [],
   "source": []
  },
  {
   "cell_type": "markdown",
   "id": "987f8bd2",
   "metadata": {},
   "source": [
    "<div style=\"background-color: #FFEE99; padding: 25px; border-radius: 5px; margin-top: 25px;\">\n",
    "\n",
    "**QUESTION 7**                  (0.5 point)\n",
    "    \n",
    "    * 7.1) What is the correlation coefficient between temperature and PV power output? Round to two decimal places. (0.25 pt)\n",
    "    * 7.2) Which are the 3 features with less correlation with the target? (0.25 pt)\n",
    "\n",
    "    \n",
    "</div>\n"
   ]
  },
  {
   "cell_type": "markdown",
   "id": "53ede362",
   "metadata": {},
   "source": [
    "\n",
    "***************************\n",
    "**Write your answers below:**\n",
    "\n",
    "\n",
    "7.1) \n",
    "\n",
    "7.2) \n",
    "\n",
    "\n",
    "***************************\n",
    "\n"
   ]
  },
  {
   "cell_type": "markdown",
   "id": "32002f61",
   "metadata": {},
   "source": [
    "\n",
    "<div style=\"background-color: #f0f0f0; padding: 25px; border-radius: 5px; font-weight: bold; margin-top: 25px;\">\n",
    "\n",
    "## 3. Data Preparation\n",
    "    \n",
    "</div>\n",
    "\n",
    "\n"
   ]
  },
  {
   "cell_type": "markdown",
   "id": "9cbbc78f",
   "metadata": {},
   "source": [
    "<div style=\"background-color: #FFEE99; padding: 25px; border-radius: 5px; margin-top: 25px;\">\n",
    "\n",
    "**QUESTION 8**                  (0.25 point)\n",
    "    \n",
    "    * 8.1) Fill in the missing data using one of these two imputation methods:\n",
    "        * A linear interpolation, using pandas .interpolate()\n",
    "        * Use the backfill method with the pandas method .fillna()\n",
    "</div>"
   ]
  },
  {
   "cell_type": "markdown",
   "id": "cf4dca29",
   "metadata": {},
   "source": [
    "*********************\n",
    "\n",
    "**Write your answer below** \n",
    "\n",
    "\n",
    "8.1)   Not Answer Needed (Only code)\n",
    "\n",
    "\n",
    "*********************"
   ]
  },
  {
   "cell_type": "markdown",
   "id": "6c392248",
   "metadata": {},
   "source": [
    "### <span style=\"color: blue;\"> >> Write the code below for solving the question</span>"
   ]
  },
  {
   "cell_type": "markdown",
   "id": "60f4a449",
   "metadata": {},
   "source": [
    "<span style=\"color: blue;\"> 8.1) Fill in the missing data using the .fillna() method</span> "
   ]
  },
  {
   "cell_type": "code",
   "execution_count": 22,
   "id": "b836d0f0",
   "metadata": {},
   "outputs": [
    {
     "data": {
      "text/plain": [
       "localhour      datetime64[ns]\n",
       "pressure              float64\n",
       "temperature           float64\n",
       "humidity              float64\n",
       "windspeed             float64\n",
       "rain                  float64\n",
       "radiation             float64\n",
       "pvgen                 float64\n",
       "Month                  object\n",
       "dtype: object"
      ]
     },
     "execution_count": 22,
     "metadata": {},
     "output_type": "execute_result"
    }
   ],
   "source": [
    "df.dtypes\n",
    "df['localhour']= pd.to_datetime(df['localhour'],format='%d/%m/%Y %H:%M')\n",
    "df.dtypes"
   ]
  },
  {
   "cell_type": "code",
   "execution_count": 23,
   "id": "5339fa40",
   "metadata": {},
   "outputs": [
    {
     "data": {
      "text/html": [
       "<div>\n",
       "<style scoped>\n",
       "    .dataframe tbody tr th:only-of-type {\n",
       "        vertical-align: middle;\n",
       "    }\n",
       "\n",
       "    .dataframe tbody tr th {\n",
       "        vertical-align: top;\n",
       "    }\n",
       "\n",
       "    .dataframe thead th {\n",
       "        text-align: right;\n",
       "    }\n",
       "</style>\n",
       "<table border=\"1\" class=\"dataframe\">\n",
       "  <thead>\n",
       "    <tr style=\"text-align: right;\">\n",
       "      <th></th>\n",
       "      <th>localhour</th>\n",
       "      <th>pressure</th>\n",
       "      <th>temperature</th>\n",
       "      <th>humidity</th>\n",
       "      <th>windspeed</th>\n",
       "      <th>rain</th>\n",
       "      <th>radiation</th>\n",
       "      <th>pvgen</th>\n",
       "      <th>Month</th>\n",
       "    </tr>\n",
       "  </thead>\n",
       "  <tbody>\n",
       "    <tr>\n",
       "      <th>0</th>\n",
       "      <td>2015-02-19 12:00:00</td>\n",
       "      <td>1024.4</td>\n",
       "      <td>17.0</td>\n",
       "      <td>56.0</td>\n",
       "      <td>4.0</td>\n",
       "      <td>0.0</td>\n",
       "      <td>672.0</td>\n",
       "      <td>6.646</td>\n",
       "      <td>February</td>\n",
       "    </tr>\n",
       "    <tr>\n",
       "      <th>1</th>\n",
       "      <td>2015-02-19 13:00:00</td>\n",
       "      <td>1022.8</td>\n",
       "      <td>18.0</td>\n",
       "      <td>47.0</td>\n",
       "      <td>4.0</td>\n",
       "      <td>0.0</td>\n",
       "      <td>865.0</td>\n",
       "      <td>7.364</td>\n",
       "      <td>February</td>\n",
       "    </tr>\n",
       "    <tr>\n",
       "      <th>2</th>\n",
       "      <td>2015-02-19 14:00:00</td>\n",
       "      <td>1021.4</td>\n",
       "      <td>19.0</td>\n",
       "      <td>47.0</td>\n",
       "      <td>4.0</td>\n",
       "      <td>0.0</td>\n",
       "      <td>781.0</td>\n",
       "      <td>7.418</td>\n",
       "      <td>February</td>\n",
       "    </tr>\n",
       "    <tr>\n",
       "      <th>3</th>\n",
       "      <td>2015-02-19 15:00:00</td>\n",
       "      <td>1019.9</td>\n",
       "      <td>20.0</td>\n",
       "      <td>41.0</td>\n",
       "      <td>4.0</td>\n",
       "      <td>0.0</td>\n",
       "      <td>664.0</td>\n",
       "      <td>6.616</td>\n",
       "      <td>February</td>\n",
       "    </tr>\n",
       "    <tr>\n",
       "      <th>4</th>\n",
       "      <td>2015-02-19 16:00:00</td>\n",
       "      <td>1018.6</td>\n",
       "      <td>21.0</td>\n",
       "      <td>42.0</td>\n",
       "      <td>4.0</td>\n",
       "      <td>0.0</td>\n",
       "      <td>505.0</td>\n",
       "      <td>4.795</td>\n",
       "      <td>February</td>\n",
       "    </tr>\n",
       "    <tr>\n",
       "      <th>...</th>\n",
       "      <td>...</td>\n",
       "      <td>...</td>\n",
       "      <td>...</td>\n",
       "      <td>...</td>\n",
       "      <td>...</td>\n",
       "      <td>...</td>\n",
       "      <td>...</td>\n",
       "      <td>...</td>\n",
       "      <td>...</td>\n",
       "    </tr>\n",
       "    <tr>\n",
       "      <th>25029</th>\n",
       "      <td>2018-05-01 19:00:00</td>\n",
       "      <td>1013.6</td>\n",
       "      <td>25.0</td>\n",
       "      <td>85.0</td>\n",
       "      <td>0.0</td>\n",
       "      <td>0.0</td>\n",
       "      <td>125.0</td>\n",
       "      <td>0.060</td>\n",
       "      <td>May</td>\n",
       "    </tr>\n",
       "    <tr>\n",
       "      <th>25030</th>\n",
       "      <td>2018-05-01 20:00:00</td>\n",
       "      <td>1014.0</td>\n",
       "      <td>24.0</td>\n",
       "      <td>84.0</td>\n",
       "      <td>0.0</td>\n",
       "      <td>0.0</td>\n",
       "      <td>2.0</td>\n",
       "      <td>0.000</td>\n",
       "      <td>May</td>\n",
       "    </tr>\n",
       "    <tr>\n",
       "      <th>25031</th>\n",
       "      <td>2018-05-01 21:00:00</td>\n",
       "      <td>1014.6</td>\n",
       "      <td>24.0</td>\n",
       "      <td>85.0</td>\n",
       "      <td>0.0</td>\n",
       "      <td>0.0</td>\n",
       "      <td>0.0</td>\n",
       "      <td>0.000</td>\n",
       "      <td>May</td>\n",
       "    </tr>\n",
       "    <tr>\n",
       "      <th>25032</th>\n",
       "      <td>2018-05-01 22:00:00</td>\n",
       "      <td>1015.3</td>\n",
       "      <td>24.0</td>\n",
       "      <td>86.0</td>\n",
       "      <td>0.0</td>\n",
       "      <td>0.0</td>\n",
       "      <td>0.0</td>\n",
       "      <td>0.000</td>\n",
       "      <td>May</td>\n",
       "    </tr>\n",
       "    <tr>\n",
       "      <th>25033</th>\n",
       "      <td>2018-05-01 23:00:00</td>\n",
       "      <td>1015.3</td>\n",
       "      <td>24.0</td>\n",
       "      <td>86.0</td>\n",
       "      <td>0.0</td>\n",
       "      <td>0.0</td>\n",
       "      <td>0.0</td>\n",
       "      <td>0.000</td>\n",
       "      <td>May</td>\n",
       "    </tr>\n",
       "  </tbody>\n",
       "</table>\n",
       "<p>25034 rows × 9 columns</p>\n",
       "</div>"
      ],
      "text/plain": [
       "                localhour  pressure  temperature  humidity  windspeed  rain  \\\n",
       "0     2015-02-19 12:00:00    1024.4         17.0      56.0        4.0   0.0   \n",
       "1     2015-02-19 13:00:00    1022.8         18.0      47.0        4.0   0.0   \n",
       "2     2015-02-19 14:00:00    1021.4         19.0      47.0        4.0   0.0   \n",
       "3     2015-02-19 15:00:00    1019.9         20.0      41.0        4.0   0.0   \n",
       "4     2015-02-19 16:00:00    1018.6         21.0      42.0        4.0   0.0   \n",
       "...                   ...       ...          ...       ...        ...   ...   \n",
       "25029 2018-05-01 19:00:00    1013.6         25.0      85.0        0.0   0.0   \n",
       "25030 2018-05-01 20:00:00    1014.0         24.0      84.0        0.0   0.0   \n",
       "25031 2018-05-01 21:00:00    1014.6         24.0      85.0        0.0   0.0   \n",
       "25032 2018-05-01 22:00:00    1015.3         24.0      86.0        0.0   0.0   \n",
       "25033 2018-05-01 23:00:00    1015.3         24.0      86.0        0.0   0.0   \n",
       "\n",
       "       radiation  pvgen     Month  \n",
       "0          672.0  6.646  February  \n",
       "1          865.0  7.364  February  \n",
       "2          781.0  7.418  February  \n",
       "3          664.0  6.616  February  \n",
       "4          505.0  4.795  February  \n",
       "...          ...    ...       ...  \n",
       "25029      125.0  0.060       May  \n",
       "25030        2.0  0.000       May  \n",
       "25031        0.0  0.000       May  \n",
       "25032        0.0  0.000       May  \n",
       "25033        0.0  0.000       May  \n",
       "\n",
       "[25034 rows x 9 columns]"
      ]
     },
     "execution_count": 23,
     "metadata": {},
     "output_type": "execute_result"
    }
   ],
   "source": [
    "df"
   ]
  },
  {
   "cell_type": "code",
   "execution_count": 24,
   "id": "8f086470",
   "metadata": {},
   "outputs": [
    {
     "data": {
      "text/plain": [
       "localhour      0\n",
       "pressure       3\n",
       "temperature    1\n",
       "humidity       3\n",
       "windspeed      1\n",
       "rain           0\n",
       "radiation      2\n",
       "pvgen          0\n",
       "Month          0\n",
       "dtype: int64"
      ]
     },
     "execution_count": 24,
     "metadata": {},
     "output_type": "execute_result"
    }
   ],
   "source": [
    "df.isna().sum()"
   ]
  },
  {
   "cell_type": "code",
   "execution_count": 25,
   "id": "7d92e08f",
   "metadata": {},
   "outputs": [
    {
     "name": "stderr",
     "output_type": "stream",
     "text": [
      "C:\\Users\\stsad\\AppData\\Local\\Temp\\ipykernel_21320\\3165458628.py:1: FutureWarning: DataFrame.interpolate with object dtype is deprecated and will raise in a future version. Call obj.infer_objects(copy=False) before interpolating instead.\n",
      "  interpolated_df = df.interpolate(inplace=True)\n"
     ]
    }
   ],
   "source": [
    "interpolated_df = df.interpolate(inplace=True)"
   ]
  },
  {
   "cell_type": "code",
   "execution_count": 26,
   "id": "bc8d757a",
   "metadata": {},
   "outputs": [
    {
     "data": {
      "text/plain": [
       "localhour      0\n",
       "pressure       0\n",
       "temperature    0\n",
       "humidity       0\n",
       "windspeed      0\n",
       "rain           0\n",
       "radiation      0\n",
       "pvgen          0\n",
       "Month          0\n",
       "dtype: int64"
      ]
     },
     "execution_count": 26,
     "metadata": {},
     "output_type": "execute_result"
    }
   ],
   "source": [
    "df.isna().sum()\n",
    "#df.fillna(method='back')"
   ]
  },
  {
   "cell_type": "markdown",
   "id": "5f89d35c",
   "metadata": {},
   "source": [
    "<div style=\"background-color: #FFEE99; padding: 25px; border-radius: 5px; margin-top: 25px;\">\n",
    "\n",
    "**QUESTION 9**                  (1 point)\n",
    "    \n",
    "    9.1) Create a lag variable for the previous day's target. Ensure to handle any resulting NaN values by using .dropna() (0.5 pt)\n",
    "    9.2) Create at least two new features for your dataset that could enhance the performance of your model. Provide a brief explanation for why these features might be beneficial. (0.5 pt)\n",
    "    \n",
    "</div>"
   ]
  },
  {
   "cell_type": "markdown",
   "id": "27b08ef5",
   "metadata": {},
   "source": [
    "***************************\n",
    "\n",
    "**Write your anwers below:**\n",
    "    \n",
    "    \n",
    "9.1)  Not Answer Needed (Only code)\n",
    "\n",
    "\n",
    "9.2)\n",
    "\n",
    "***************************"
   ]
  },
  {
   "cell_type": "markdown",
   "id": "824da109",
   "metadata": {},
   "source": [
    "### <span style=\"color: blue;\"> >> Write the code below for solving the question</span>"
   ]
  },
  {
   "cell_type": "markdown",
   "id": "322ed1cc",
   "metadata": {},
   "source": [
    " <span style=\"color: blue;\"> 9.1) Create the lag variable of the day before of the target (pvgen). Remember to drop the Nan values generated with .dropna().</span> "
   ]
  },
  {
   "cell_type": "code",
   "execution_count": 11,
   "id": "2636dc5b",
   "metadata": {},
   "outputs": [],
   "source": [
    "\n",
    "\n",
    "\n",
    "\n",
    "\n",
    "\n",
    "\n"
   ]
  },
  {
   "cell_type": "code",
   "execution_count": null,
   "id": "c3753836",
   "metadata": {},
   "outputs": [],
   "source": []
  },
  {
   "cell_type": "markdown",
   "id": "848d93a6",
   "metadata": {},
   "source": [
    " <span style=\"color: blue;\"> 9.2) Create at least 3 new features for your dataset that you consider can be helpful for your improving your model.</span> \n"
   ]
  },
  {
   "cell_type": "code",
   "execution_count": null,
   "id": "b1172ed1",
   "metadata": {},
   "outputs": [],
   "source": [
    "\n",
    "\n",
    "\n",
    "\n",
    "\n",
    "\n",
    "\n"
   ]
  },
  {
   "cell_type": "code",
   "execution_count": null,
   "id": "c8e13ab6",
   "metadata": {},
   "outputs": [],
   "source": []
  },
  {
   "cell_type": "markdown",
   "id": "0a737b3e",
   "metadata": {},
   "source": [
    "<div style=\"background-color: #FFEE99; padding: 25px; border-radius: 5px; margin-top: 25px;\">\n",
    "\n",
    "**QUESTION 10**                  (0.75 point)\n",
    "    \n",
    "    Plot again the correlation matrix with the new features.\n",
    "\n",
    "    10.1) Write down the 5 features that have the strongest correlation with the target. (0.25 pt)\n",
    "    10.2) Which 3 features have the weakest correlation with the target? Drop these 3 features. (0.25 pt)\n",
    "    10.3) Drop the datetime column. (0.25 pt)\n",
    "    \n",
    "    \n",
    "</div>"
   ]
  },
  {
   "cell_type": "markdown",
   "id": "50d887d0",
   "metadata": {},
   "source": [
    "***************************\n",
    "\n",
    "**Write your anwers below:**\n",
    "    \n",
    "    \n",
    "10.1) \n",
    "\n",
    "\n",
    "10.2)  \n",
    "\n",
    "\n",
    "10.3) Not Answer Needed (Only code)\n",
    "\n",
    "***************************"
   ]
  },
  {
   "cell_type": "markdown",
   "id": "bf2e61ff",
   "metadata": {},
   "source": [
    "### <span style=\"color: blue;\"> >> Write the code below for solving the question</span>"
   ]
  },
  {
   "cell_type": "markdown",
   "id": "5734a355",
   "metadata": {},
   "source": [
    " <span style=\"color: blue;\"> 10.1) Plot again the correlation matrix with the new features. </span> \n",
    "\n"
   ]
  },
  {
   "cell_type": "code",
   "execution_count": null,
   "id": "0f50f6ea",
   "metadata": {},
   "outputs": [],
   "source": [
    "\n",
    "\n",
    "\n",
    "\n",
    "\n",
    "\n",
    "\n",
    "\n",
    "\n"
   ]
  },
  {
   "cell_type": "code",
   "execution_count": null,
   "id": "aa15a60c",
   "metadata": {},
   "outputs": [],
   "source": []
  },
  {
   "cell_type": "markdown",
   "id": "4ef92084",
   "metadata": {},
   "source": [
    " <span style=\"color: blue;\"> 10.2) Drop the 2 features that have the weakest correlation with the target. </span> "
   ]
  },
  {
   "cell_type": "code",
   "execution_count": 119,
   "id": "6f4d0714",
   "metadata": {},
   "outputs": [],
   "source": [
    "\n",
    "\n",
    "\n",
    "\n",
    "\n"
   ]
  },
  {
   "cell_type": "markdown",
   "id": "6064a5e5",
   "metadata": {},
   "source": [
    "\n",
    "\n",
    " <span style=\"color: blue;\"> 10.3) Drop the datetime column </span> "
   ]
  },
  {
   "cell_type": "code",
   "execution_count": 120,
   "id": "ca41b12d",
   "metadata": {},
   "outputs": [],
   "source": [
    "\n",
    "\n",
    "\n",
    "\n",
    "\n"
   ]
  },
  {
   "cell_type": "markdown",
   "id": "5686f065",
   "metadata": {},
   "source": [
    "<div style=\"background-color: #FFEE99; padding: 25px; border-radius: 5px; margin-top: 25px;\">\n",
    "\n",
    "**QUESTION 11**                  (0.75 point)\n",
    "    \n",
    "    * 11.1) Delete the outliers of the windspeed column using a z-score=4 (0.5 pt)\n",
    "    * 11.2) How many records have been deleted? (0.25 pt)\n",
    "\n",
    "</div>\n"
   ]
  },
  {
   "cell_type": "markdown",
   "id": "e70f03d0",
   "metadata": {},
   "source": [
    "***************************\n",
    "\n",
    "**Write your anwers below:**\n",
    "    \n",
    "    \n",
    "11.1) Not Answer Needed (Only code)\n",
    "\n",
    "11.2)  \n",
    "\n",
    "\n",
    "\n",
    "***************************"
   ]
  },
  {
   "cell_type": "code",
   "execution_count": null,
   "id": "6aec4028",
   "metadata": {},
   "outputs": [],
   "source": []
  },
  {
   "cell_type": "markdown",
   "id": "2d3fe43e",
   "metadata": {},
   "source": [
    "### <span style=\"color: blue;\"> >> Write the code below for solving the question</span>"
   ]
  },
  {
   "cell_type": "markdown",
   "id": "0c348c9f",
   "metadata": {},
   "source": [
    "<span style=\"color: blue;\"> 11.1) Delete the outliers of the windspeed column using a z-score=4 </span> "
   ]
  },
  {
   "cell_type": "code",
   "execution_count": null,
   "id": "00aaff87",
   "metadata": {},
   "outputs": [],
   "source": [
    "\n",
    "\n",
    "\n",
    "\n",
    "\n",
    "\n"
   ]
  },
  {
   "cell_type": "code",
   "execution_count": null,
   "id": "b64b744e",
   "metadata": {},
   "outputs": [],
   "source": []
  },
  {
   "cell_type": "code",
   "execution_count": null,
   "id": "3088e550",
   "metadata": {},
   "outputs": [],
   "source": []
  },
  {
   "cell_type": "markdown",
   "id": "03a447ec",
   "metadata": {},
   "source": [
    "<span style=\"color: blue;\"> 11.2) How many records have been deleted? </span> "
   ]
  },
  {
   "cell_type": "code",
   "execution_count": null,
   "id": "737e535f",
   "metadata": {},
   "outputs": [],
   "source": [
    "\n",
    "\n",
    "\n",
    "\n",
    "\n"
   ]
  },
  {
   "cell_type": "markdown",
   "id": "d17d3e3d",
   "metadata": {},
   "source": [
    "\n",
    "\n",
    "<div style=\"background-color: #f0f0f0; padding: 25px; border-radius: 5px; font-weight: bold; margin-top: 25px;\">\n",
    "\n",
    "## 4. Split the data\n",
    "    \n",
    "</div>\n",
    "\n"
   ]
  },
  {
   "cell_type": "markdown",
   "id": "8fb4ffe5",
   "metadata": {},
   "source": [
    "<div style=\"background-color: #FFEE99; padding: 25px; border-radius: 5px; margin-top: 25px;\">\n",
    "\n",
    "**QUESTION 12**                  (0.25 point)\n",
    "    \n",
    "    Split the data into train, validation and test. Use a test_size of 20% for test and validation splitting. \n",
    "    \n",
    "      12.1) After splitting the data, how many samples are in the test set?\n",
    "    \n",
    "</div>\n",
    "\n"
   ]
  },
  {
   "cell_type": "markdown",
   "id": "331d0b9f",
   "metadata": {},
   "source": [
    "*********************\n",
    "\n",
    "**Write your answer below** \n",
    "\n",
    "\n",
    "12.1) \n",
    "\n",
    "\n",
    "*********************\n",
    "\n"
   ]
  },
  {
   "cell_type": "markdown",
   "id": "e907a122",
   "metadata": {},
   "source": [
    "### <span style=\"color: blue;\"> >> Write the code below for solving the question</span>"
   ]
  },
  {
   "cell_type": "markdown",
   "id": "d4ba4463",
   "metadata": {},
   "source": [
    "<span style=\"color: blue;\"> Split the data into train, validation and test. </span>  "
   ]
  },
  {
   "cell_type": "code",
   "execution_count": 125,
   "id": "c858d7d9",
   "metadata": {},
   "outputs": [],
   "source": [
    "\n",
    "\n",
    "\n",
    "\n",
    "\n",
    "\n",
    "\n",
    "\n",
    "\n",
    "\n",
    "\n",
    "\n",
    "\n"
   ]
  },
  {
   "cell_type": "code",
   "execution_count": null,
   "id": "2295992a",
   "metadata": {},
   "outputs": [],
   "source": []
  },
  {
   "cell_type": "code",
   "execution_count": null,
   "id": "fa089d28",
   "metadata": {},
   "outputs": [],
   "source": []
  },
  {
   "cell_type": "markdown",
   "id": "d6d8c474",
   "metadata": {},
   "source": [
    "<div style=\"background-color: #FFEE99; padding: 25px; border-radius: 5px; margin-top: 25px;\">\n",
    "\n",
    "**QUESTION 13**                  (0.25 point)\n",
    "    \n",
    "       13.1) Scale the features using StandardScaler\n",
    "    \n",
    "</div>\n"
   ]
  },
  {
   "cell_type": "markdown",
   "id": "c6fe5b08",
   "metadata": {},
   "source": [
    "*********************\n",
    "\n",
    "**Write your answer below** \n",
    "\n",
    "\n",
    "13.1)  Not Answer Needed (Only code)\n",
    "\n",
    "\n",
    "*********************"
   ]
  },
  {
   "cell_type": "markdown",
   "id": "c357ab94",
   "metadata": {},
   "source": [
    "### <span style=\"color: blue;\"> >> Write the code below for solving the question</span>"
   ]
  },
  {
   "cell_type": "markdown",
   "id": "2edd6006",
   "metadata": {},
   "source": [
    "<span style=\"color: blue;\"> 13.1) Scale the features using StandardScaler</span> "
   ]
  },
  {
   "cell_type": "code",
   "execution_count": null,
   "id": "05a44f8b",
   "metadata": {},
   "outputs": [],
   "source": [
    "\n",
    "\n",
    "\n",
    "\n",
    "\n",
    "\n",
    "\n",
    "\n",
    "\n",
    "\n"
   ]
  },
  {
   "cell_type": "code",
   "execution_count": null,
   "id": "4d20fb62",
   "metadata": {},
   "outputs": [],
   "source": []
  },
  {
   "cell_type": "markdown",
   "id": "f03334c1",
   "metadata": {},
   "source": [
    "\n",
    "<div style=\"background-color: #f0f0f0; padding: 25px; border-radius: 5px; font-weight: bold; margin-top: 25px;\">\n",
    "\n",
    "## 5. Model building and evaluation\n",
    "    \n",
    "</div>\n",
    "\n",
    "> Available [Scoring Metrics in ScikitLearn](https://scikit-learn.org/1.5/api/sklearn.metrics.html)\n"
   ]
  },
  {
   "cell_type": "markdown",
   "id": "ccf50b95",
   "metadata": {},
   "source": [
    "<div style=\"background-color: #FFEE99; padding: 25px; border-radius: 5px; margin-top: 25px;\">\n",
    "    \n",
    "**QUESTION 14**                  (0.5 point)\n",
    "    \n",
    "     14.1) Train the following 4 models: Random Forest, Super Vector Reggressor, Decision Trees and KNNeighbours using cross validation TimeSeriesSplit, with 5 folds. Use the scoring metric of R2. (0.25 pt)\n",
    "     14.2) Which model performs best? Write the average and std metrics for that model.  (0.25 pt)\n",
    "    \n",
    "    \n",
    "</div>"
   ]
  },
  {
   "cell_type": "markdown",
   "id": "a5e9be40",
   "metadata": {},
   "source": [
    "*********************\n",
    "\n",
    "**Write your answer below** \n",
    "\n",
    "\n",
    "14.1) Not Answer Needed (Only code)\n",
    "\n",
    "14.2) \n",
    "\n",
    "*********************"
   ]
  },
  {
   "cell_type": "markdown",
   "id": "bdc3fc5d",
   "metadata": {},
   "source": [
    "### <span style=\"color: blue;\"> >> Write the code below for solving the question</span>"
   ]
  },
  {
   "cell_type": "markdown",
   "id": "94d1b387",
   "metadata": {},
   "source": [
    "<span style=\"color: blue;\"> 14.1) Train the following 4 models: Random Forest, Super Vector Reggressor, Decision Trees and KNNeighbours using cross validation TimeSeriesSplit, with 5 folds. Use the scoring metric of R2.</span> "
   ]
  },
  {
   "cell_type": "code",
   "execution_count": null,
   "id": "024f791f",
   "metadata": {},
   "outputs": [],
   "source": [
    "\n",
    "\n",
    "\n",
    "\n"
   ]
  },
  {
   "cell_type": "code",
   "execution_count": 133,
   "id": "672bc94f",
   "metadata": {},
   "outputs": [],
   "source": [
    "\n",
    "\n",
    "\n",
    "\n",
    "\n",
    "\n",
    "\n"
   ]
  },
  {
   "cell_type": "code",
   "execution_count": null,
   "id": "69f3cb4e",
   "metadata": {},
   "outputs": [],
   "source": []
  },
  {
   "cell_type": "code",
   "execution_count": null,
   "id": "0dbe309a",
   "metadata": {},
   "outputs": [],
   "source": []
  },
  {
   "cell_type": "markdown",
   "id": "9c3a4fe9",
   "metadata": {},
   "source": [
    "\n",
    "\n",
    "<div style=\"background-color: #f0f0f0; padding: 25px; border-radius: 5px; font-weight: bold; margin-top: 25px;\">\n",
    "\n",
    "## 6. Best Model Hyperparameters Adjustment\n",
    "    \n",
    "</div>\n",
    "\n"
   ]
  },
  {
   "cell_type": "markdown",
   "id": "4e1a527d",
   "metadata": {},
   "source": [
    "<div style=\"background-color: #FFEE99; padding: 25px; border-radius: 5px; margin-top: 25px;\">\n",
    "\n",
    "**QUESTION 15**                  (0.5 point)\n",
    "    \n",
    "      15.1)  Select the model with the best performance and focus on tuning two specific hyperparameters. For each hyperparameter, provide two possible values to test. Use the R² metric to evaluate performance and apply the TimeSeriesSplit() cross-validation method with 5 splits.\n",
    "    \n",
    "        Example:\n",
    "        hyperparameter1 = [option1, option2],\n",
    "        hyperparameter2 = [option1, option2]\n",
    "    \n",
    "</div>"
   ]
  },
  {
   "cell_type": "markdown",
   "id": "3005ebef",
   "metadata": {},
   "source": [
    "*********************\n",
    "\n",
    "**Write your answer below** \n",
    "\n",
    "\n",
    "15.1) Not Answer Needed (Only code)\n",
    "\n",
    "\n",
    "*********************"
   ]
  },
  {
   "cell_type": "markdown",
   "id": "0b8c6d9d",
   "metadata": {},
   "source": [
    "### <span style=\"color: blue;\"> >> Write the code below for solving the question</span>"
   ]
  },
  {
   "cell_type": "markdown",
   "id": "bbc6742a",
   "metadata": {},
   "source": [
    "<span style=\"color: blue;\"> 15.1)  Select the model with the best performance and focus on tuning two specific hyperparameters. For each hyperparameter, provide two possible values to test. Use the R² metric to evaluate performance and apply the TimeSeriesSplit() cross-validation method with 5 splits.</span>\n",
    "\n",
    "\n"
   ]
  },
  {
   "cell_type": "code",
   "execution_count": null,
   "id": "b7d4ad50",
   "metadata": {},
   "outputs": [],
   "source": [
    "\n",
    "\n",
    "\n",
    "\n",
    "\n",
    "\n",
    "\n"
   ]
  },
  {
   "cell_type": "code",
   "execution_count": null,
   "id": "c674c66b",
   "metadata": {},
   "outputs": [],
   "source": []
  },
  {
   "cell_type": "markdown",
   "id": "15b4bee8",
   "metadata": {},
   "source": [
    "\n",
    "\n",
    "<div style=\"background-color: #f0f0f0; padding: 25px; border-radius: 5px; font-weight: bold; margin-top: 25px;\">\n",
    "\n",
    "## 7. Final evaluation of the model\n",
    "    \n",
    "</div>\n"
   ]
  },
  {
   "cell_type": "markdown",
   "id": "1c413b52",
   "metadata": {},
   "source": [
    "<div style=\"background-color: #FFEE99; padding: 25px; border-radius: 5px; margin-top: 25px;\">\n",
    "\n",
    "**QUESTION 16**                  (0.75 point)\n",
    "    \n",
    "      16.1) Train the model with the optimal hyperparameters of the model (0.25 pt)\n",
    "      16.2) Write the R2 metric for the predictions on the test set (0.25 pt)\n",
    "      16.3) Plot the predictions y_predict vs the real values y_test (0.25 pt)\n",
    "    \n",
    "</div>"
   ]
  },
  {
   "cell_type": "markdown",
   "id": "3122b021",
   "metadata": {},
   "source": [
    "*********************\n",
    "\n",
    "**Write your answer below** \n",
    "\n",
    "\n",
    "16.1) Not Answer Needed (Only code)\n",
    "\n",
    "16.2) \n",
    "\n",
    "16.3) Not Answer Needed (Only code)\n",
    "\n",
    "\n",
    "*********************"
   ]
  },
  {
   "cell_type": "markdown",
   "id": "d2cc58b2",
   "metadata": {},
   "source": [
    "### <span style=\"color: blue;\"> >> Write the code below for solving the question</span>"
   ]
  },
  {
   "cell_type": "markdown",
   "id": "7cc3c134",
   "metadata": {},
   "source": [
    "<span style=\"color: blue;\"> 16.1) Train the model with the optimal hyperparameters of the model</span> "
   ]
  },
  {
   "cell_type": "code",
   "execution_count": null,
   "id": "cdf3b763",
   "metadata": {},
   "outputs": [],
   "source": [
    "\n",
    "\n",
    "\n",
    "\n",
    "\n",
    "\n"
   ]
  },
  {
   "cell_type": "markdown",
   "id": "78acb17d",
   "metadata": {},
   "source": [
    "<span style=\"color: blue;\"> 16.2) Write the R2 metric for the predictions on the test set.</span> \n"
   ]
  },
  {
   "cell_type": "code",
   "execution_count": null,
   "id": "98e35153",
   "metadata": {},
   "outputs": [],
   "source": [
    "\n",
    "\n",
    "\n",
    "\n",
    "\n",
    "\n",
    "\n"
   ]
  },
  {
   "cell_type": "markdown",
   "id": "6511dc8b",
   "metadata": {},
   "source": [
    " <span style=\"color: blue;\"> 16.3) Plot the predictions y_predict vs the real values y_test</span> \n",
    " "
   ]
  },
  {
   "cell_type": "code",
   "execution_count": null,
   "id": "73c7b6fc",
   "metadata": {},
   "outputs": [],
   "source": [
    "\n",
    "\n",
    "\n",
    "\n",
    "\n",
    "\n",
    "\n",
    "\n",
    "\n",
    "\n",
    "\n",
    "\n"
   ]
  },
  {
   "cell_type": "markdown",
   "id": "c5c9b936",
   "metadata": {},
   "source": [
    "<div style=\"background-color: #FFEE99; padding: 25px; border-radius: 5px; margin-top: 25px;\">\n",
    "\n",
    "****QUESTION 17**                  (1 point)**\n",
    "    \n",
    "        17.1) What steps would you take to improve the model? Provide a detailed explanation. (0.50 pt)\n",
    "        17.2) Explain how you would monitor and determine when the ML model requires retraining over time as new data becomes available. (0.50 pt)\n",
    "       \n",
    "    \n",
    "</div>"
   ]
  },
  {
   "cell_type": "markdown",
   "id": "958903c1",
   "metadata": {},
   "source": [
    "*********************\n",
    "\n",
    "**Write your answer below** \n",
    "\n",
    "\n",
    "17.1) \n",
    "\n",
    "\n",
    "\n",
    "\n",
    "\n",
    "17.2)\n",
    "\n",
    "\n",
    "\n",
    "\n",
    "\n",
    "\n",
    "*********************"
   ]
  },
  {
   "cell_type": "code",
   "execution_count": null,
   "id": "8c3be6a1",
   "metadata": {},
   "outputs": [],
   "source": []
  },
  {
   "cell_type": "code",
   "execution_count": null,
   "id": "ccd63c79",
   "metadata": {},
   "outputs": [],
   "source": []
  },
  {
   "cell_type": "code",
   "execution_count": null,
   "id": "58a94d83",
   "metadata": {},
   "outputs": [],
   "source": []
  },
  {
   "cell_type": "code",
   "execution_count": null,
   "id": "b8defc89",
   "metadata": {},
   "outputs": [],
   "source": []
  }
 ],
 "metadata": {
  "kernelspec": {
   "display_name": "Python 3",
   "language": "python",
   "name": "python3"
  },
  "language_info": {
   "codemirror_mode": {
    "name": "ipython",
    "version": 3
   },
   "file_extension": ".py",
   "mimetype": "text/x-python",
   "name": "python",
   "nbconvert_exporter": "python",
   "pygments_lexer": "ipython3",
   "version": "3.12.10"
  }
 },
 "nbformat": 4,
 "nbformat_minor": 5
}
